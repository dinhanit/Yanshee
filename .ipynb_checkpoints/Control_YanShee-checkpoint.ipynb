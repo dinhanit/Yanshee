{
 "cells": [
  {
   "cell_type": "code",
   "execution_count": 4,
   "id": "fdd8ff21",
   "metadata": {},
   "outputs": [],
   "source": [
    "from Yanshee import *"
   ]
  },
  {
   "cell_type": "code",
   "execution_count": null,
   "id": "f840074b",
   "metadata": {},
   "outputs": [],
   "source": [
    "YS=YanShee(\"123.1.2.3.4.2\") #Definte Yanshee"
   ]
  },
  {
   "cell_type": "code",
   "execution_count": null,
   "id": "20d799db",
   "metadata": {},
   "outputs": [],
   "source": [
    "YS.single_motion(name='walk',direction='forward',repeat=5) #Start single motion"
   ]
  },
  {
   "cell_type": "code",
   "execution_count": null,
   "id": "58b210d8",
   "metadata": {},
   "outputs": [],
   "source": [
    "YS.dance(name='Happy') #Dance with music"
   ]
  },
  {
   "cell_type": "code",
   "execution_count": null,
   "id": "99c94303",
   "metadata": {},
   "outputs": [],
   "source": [
    "#Motions\n",
    "dict_motion={\n",
    "    1:{\n",
    "        'name':'crouch',\n",
    "        'direction':'',#don't have to set the direction\n",
    "        'repeat':'1'\n",
    "    },\n",
    "    2:{\n",
    "        'name':'bow',\n",
    "        'direction':'',#don't have to set the direction\n",
    "        'repeat':'1'\n",
    "    },\n",
    "    3:{\n",
    "        'name':'raise',\n",
    "        'direction':'both',#left/right/both\n",
    "        'repeat':'1'\n",
    "    },\n",
    "    4:{\n",
    "        'name':'stretch',\n",
    "        'direction':'left',#left/right/both\n",
    "        'repeat':'1'\n",
    "    },\n",
    "    5:{\n",
    "        'name':'come on',\n",
    "        'direction':'left',#left/right/both\n",
    "        'repeat':'1'\n",
    "    },\n",
    "    6:{\n",
    "        'name':'wave',\n",
    "        'direction':'left',#left/right/both\n",
    "        'repeat':'1'\n",
    "    },\n",
    "    7:{\n",
    "        'name':'bend',\n",
    "        'direction':'left', #left/right\n",
    "        'repeat':'1'\n",
    "    },\n",
    "    8:{\n",
    "        'name':'turn around',\n",
    "        'direction':'left', #left/right\n",
    "        'repeat':'1'\n",
    "    },\n",
    "    9:{\n",
    "        'name':'walk',\n",
    "        'direction':'left', #forward/backward/left/right\n",
    "        'repeat':'4'\n",
    "    },\n",
    "    10:{\n",
    "        'name':'head',\n",
    "        'direction':'left', #forward/left/right\n",
    "        'repeat':'1'\n",
    "    }\n",
    "    \n",
    "}\n"
   ]
  },
  {
   "cell_type": "code",
   "execution_count": null,
   "id": "a09dbfd9",
   "metadata": {},
   "outputs": [],
   "source": [
    "YS.multi_motion(dict_motion=dict_motion)"
   ]
  }
 ],
 "metadata": {
  "kernelspec": {
   "display_name": "Python 3 (ipykernel)",
   "language": "python",
   "name": "python3"
  },
  "language_info": {
   "codemirror_mode": {
    "name": "ipython",
    "version": 3
   },
   "file_extension": ".py",
   "mimetype": "text/x-python",
   "name": "python",
   "nbconvert_exporter": "python",
   "pygments_lexer": "ipython3",
   "version": "3.10.7"
  }
 },
 "nbformat": 4,
 "nbformat_minor": 5
}
